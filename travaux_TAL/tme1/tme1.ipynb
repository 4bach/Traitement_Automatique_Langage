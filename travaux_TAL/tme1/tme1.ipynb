{
 "cells": [
  {
   "cell_type": "markdown",
   "metadata": {},
   "source": [
    "# Pos tagging, analyse des phrases"
   ]
  },
  {
   "cell_type": "code",
   "execution_count": 23,
   "metadata": {},
   "outputs": [
    {
     "name": "stdout",
     "output_type": "stream",
     "text": [
      "823  docs read\n",
      "77  docs (T) read\n"
     ]
    }
   ],
   "source": [
    "import numpy as np\n",
    "import matplotlib.pyplot as plt\n",
    "import nltk\n",
    "def load(filename):\n",
    "    listeDoc = list()\n",
    "    with open(filename, \"r\") as f:\n",
    "        doc = list()\n",
    "        for ligne in f:\n",
    "            #print \"l : \",len(ligne),\" \",ligne\n",
    "            if len(ligne) < 2: # fin de doc\n",
    "                listeDoc.append(doc)\n",
    "                doc = list()\n",
    "                continue\n",
    "            mots = ligne.split(\" \")\n",
    "            doc.append((mots[0],mots[1]))\n",
    "    return listeDoc\n",
    "\n",
    "# =============== chargement ============\n",
    "filename = \"data/wapiti/chtrain.txt\" # a modifier\n",
    "filenameT = \"data/wapiti/chtest.txt\" # a modifier\n",
    "\n",
    "alldocs = load(filename)\n",
    "alldocsT = load(filenameT)\n",
    "\n",
    "print (len(alldocs),\" docs read\")\n",
    "print (len(alldocsT),\" docs (T) read\")\n",
    "\n"
   ]
  },
  {
   "cell_type": "markdown",
   "metadata": {},
   "source": [
    "Construction des dico et évaluation des deux dictionnaires, un en conservant les majuscules, l'autre uniquement en minuscule"
   ]
  },
  {
   "cell_type": "code",
   "execution_count": 2,
   "metadata": {},
   "outputs": [
    {
     "name": "stdout",
     "output_type": "stream",
     "text": [
      "score trouvé :  1433 / 1896\n",
      "score lower trouvé  1417 / 1896\n"
     ]
    }
   ],
   "source": [
    "dico = dict()\n",
    "dicolower = dict()\n",
    "for d in alldocs : \n",
    "    for m,c in d:\n",
    "        dicolower[m.lower()] = c\n",
    "        dico[m] = c\n",
    "            \n",
    "score=0\n",
    "scorelower = 0\n",
    "cpt=0\n",
    "for d in alldocsT:\n",
    "    for m,c in d:\n",
    "        cpt+=1\n",
    "        if dico.setdefault(m,False)== c:\n",
    "            score+=1\n",
    "        if dicolower.setdefault(m.lower(),False)== c:\n",
    "            scorelower+=1\n",
    "print(\"score trouvé : \",score,\"/\",cpt)\n",
    "print(\"score lower trouvé \",scorelower,\"/\",cpt)\n"
   ]
  },
  {
   "cell_type": "code",
   "execution_count": 3,
   "metadata": {},
   "outputs": [
    {
     "name": "stdout",
     "output_type": "stream",
     "text": [
      "score trouvé en remplacant les mots inconnus par la clé la plus fréquente :  1528 / 1896\n"
     ]
    }
   ],
   "source": [
    "from collections import Counter\n",
    "dicoTag = dict()\n",
    "for d in alldocs : \n",
    "    for m,c in d:\n",
    "        if m.lower() in dicoTag:\n",
    "            dicoTag[m.lower()].append(c)\n",
    "        else:\n",
    "            dicoTag[m.lower()] = [c]\n",
    "\n",
    "for mot in dicoTag:\n",
    "    dicoTag[mot] = Counter(dicoTag[mot]).most_common(1)[0][0]\n",
    "    \n",
    "plusProbable = Counter(dicoTag.values()).most_common(1)[0][0]\n",
    "\n",
    "\n",
    "scorePlusProbable = 0\n",
    "cpt=0\n",
    "for d in alldocsT:\n",
    "    for m,c in d:\n",
    "        cpt+=1\n",
    "        if dicoTag.setdefault(m.lower(),plusProbable)== c:\n",
    "            scorePlusProbable+=1\n",
    "print(\"score trouvé en remplacant les mots inconnus par la clé la plus fréquente : \",scorePlusProbable,\"/\",cpt)\n"
   ]
  },
  {
   "cell_type": "markdown",
   "metadata": {},
   "source": [
    "# Utilitaires HMM "
   ]
  },
  {
   "cell_type": "code",
   "execution_count": 4,
   "metadata": {},
   "outputs": [],
   "source": [
    "# allx: liste de séquences d'observations\n",
    "# allq: liste de séquences d'états\n",
    "# N: nb états\n",
    "# K: nb observation\n",
    "\n",
    "def learnHMM(allx, allq, N, K, initTo1=True):\n",
    "    if initTo1:\n",
    "        eps = 1e-5\n",
    "        A = np.ones((N,N))*eps\n",
    "        B = np.ones((N,K))*eps\n",
    "        Pi = np.ones(N)*eps\n",
    "    else:\n",
    "        A = np.zeros((N,N))\n",
    "        B = np.zeros((N,K))\n",
    "        Pi = np.zeros(N)\n",
    "    \n",
    "    for x,q in zip(allx,allq):\n",
    "       \n",
    "        Pi[int(q[0])] += 1\n",
    "        for i in range(len(q)-1):\n",
    "            A[int(q[i]),int(q[i+1])] += 1\n",
    "            B[int(q[i]),int(x[i])] += 1\n",
    "        B[int(q[-1]),int(x[-1])] += 1 # derniere transition\n",
    "    A = A/np.maximum(A.sum(1).reshape(N,1),1) # normalisation\n",
    "    B = B/np.maximum(B.sum(1).reshape(N,1),1) # normalisation\n",
    "    Pi = Pi/Pi.sum()\n",
    "    return Pi , A, B\n",
    "\n",
    "def viterbi(x,Pi,A,B):\n",
    "    T = len(x)\n",
    "    N = len(Pi)\n",
    "    logA = np.log(A)\n",
    "    logB = np.log(B)\n",
    "    logdelta = np.zeros((N,T))\n",
    "    psi = np.zeros((N,T), dtype=int)\n",
    "    S = np.zeros(T)\n",
    "    logdelta[:,0] = np.log(Pi) + logB[:,x[0]]\n",
    "    #forward\n",
    "    for t in range(1,T):\n",
    "        logdelta[:,t] = (logdelta[:,t-1].reshape(N,1) + logA).max(0) + logB[:,x[t]]\n",
    "        psi[:,t] = (logdelta[:,t-1].reshape(N,1) + logA).argmax(0)\n",
    "    # backward\n",
    "    logp = logdelta[:,-1].max()\n",
    "    S[T-1] = logdelta[:,-1].argmax()\n",
    "    for i in range(2,T+1):\n",
    "        \n",
    "        S[T-i] = psi[int(S[T-i+1]),T-i+1]\n",
    "    return S, logp #, delta, psi\n",
    " \n"
   ]
  },
  {
   "cell_type": "markdown",
   "metadata": {},
   "source": [
    "# Apprentissage par HMM"
   ]
  },
  {
   "cell_type": "code",
   "execution_count": 8,
   "metadata": {},
   "outputs": [
    {
     "name": "stdout",
     "output_type": "stream",
     "text": [
      "4570 42  in the dictionary\n",
      "score trouvé :  1536 / 1896\n"
     ]
    }
   ],
   "source": [
    "\n",
    "# alldocs etant issu du chargement des données\n",
    "\n",
    "buf = [[m for m,c in d ] for d in alldocs]\n",
    "mots = []\n",
    "[mots.extend(b) for b in buf]\n",
    "mots = np.unique(np.array(mots))\n",
    "nMots = len(mots)+1 # mot inconnu\n",
    "\n",
    "mots2ind = dict(zip(mots,range(len(mots))))\n",
    "mots2ind[\"UUUUUUUU\"] = len(mots)\n",
    "\n",
    "buf2 = [[c for m,c in d ] for d in alldocs]\n",
    "cles = []\n",
    "[cles.extend(b) for b in buf2]\n",
    "cles = np.unique(np.array(cles))\n",
    "cles2ind = dict(zip(cles,range(len(cles))))\n",
    "\n",
    "nCles = len(cles)\n",
    "\n",
    "print(nMots,nCles,\" in the dictionary\")\n",
    "\n",
    "# mise en forme des données\n",
    "allx  = [[mots2ind[m] for m,c in d] for d in alldocs]\n",
    "allxT = [[mots2ind.setdefault(m,len(mots)) for m,c in d] for d in alldocsT]\n",
    "\n",
    "allq  = [[cles2ind[c] for m,c in d] for d in alldocs]\n",
    "allqT = [[cles2ind.setdefault(c,len(cles)) for m,c in d] for d in alldocsT]\n",
    "\n",
    "\n",
    "Pi,A,B=learnHMM(allx, allq, nCles, nMots, initTo1=True)\n",
    "viterbi(allxT[0],Pi,A,B)\n",
    "score, cpt = 0,0\n",
    "confusion = np.zeros((nCles+1,nCles+1))\n",
    "for x in range(len(allxT)):\n",
    "    temp = viterbi(allxT[x],Pi,A,B)[0]\n",
    "    for i in range(len(temp)):\n",
    "        if temp[i] == allqT[x][i]:\n",
    "            score += 1\n",
    "        else:\n",
    "            confusion[int(temp[i])][int(allqT[x][i])] += 1\n",
    "        \n",
    "        cpt += 1\n",
    "    \n",
    "print(\"score trouvé : \",score,\"/\",cpt)\n",
    "\n",
    "\n",
    "    "
   ]
  },
  {
   "cell_type": "markdown",
   "metadata": {},
   "source": [
    "#  Visualisation"
   ]
  },
  {
   "cell_type": "code",
   "execution_count": 79,
   "metadata": {},
   "outputs": [
    {
     "data": {
      "image/png": "[encoded data removed]",
      "text/plain": [
       "<Figure size 960x640 with 1 Axes>"
      ]
     },
     "metadata": {},
     "output_type": "display_data"
    },
    {
     "data": {
      "image/png": "[encoded data removed]",
      "text/plain": [
       "<Figure size 960x640 with 1 Axes>"
      ]
     },
     "metadata": {},
     "output_type": "display_data"
    }
   ],
   "source": [
    "plt.figure(dpi = 160)\n",
    "\n",
    "plt.imshow(A, interpolation='nearest')\n",
    "localLabs = cles # liste des POS-TAG\n",
    "plt.yticks(range(len(localLabs)),localLabs,fontsize=5) # affichage sur l'image\n",
    "plt.xticks(range(len(localLabs)),localLabs,fontsize=5,rotation='vertical') \n",
    "plt.savefig('images/matrice_transition.png')\n",
    "plt.figure(dpi = 160)\n",
    "\n",
    "plt.imshow(confusion, interpolation='nearest')\n",
    "localLabs = cles # liste des POS-TAG\n",
    "plt.yticks(range(len(localLabs)),localLabs,fontsize=5) # affichage sur l'image\n",
    "plt.xticks(range(len(localLabs)),localLabs,fontsize=5,rotation='vertical') \n",
    "\n",
    "plt.savefig('images/matrice_confusion.png')"
   ]
  },
  {
   "cell_type": "markdown",
   "metadata": {},
   "source": [
    "# NLTK"
   ]
  },
  {
   "cell_type": "code",
   "execution_count": 80,
   "metadata": {},
   "outputs": [],
   "source": [
    "from nltk.tag.crf   import CRFTagger\n"
   ]
  },
  {
   "cell_type": "code",
   "execution_count": 81,
   "metadata": {},
   "outputs": [],
   "source": [
    "tagger = CRFTagger()\n",
    "tagger.train(alldocs, u'crf.model') # donner en plus le fichier de stockage du calcul des features\n"
   ]
  },
  {
   "cell_type": "code",
   "execution_count": 90,
   "metadata": {},
   "outputs": [
    {
     "name": "stdout",
     "output_type": "stream",
     "text": [
      "score trouvé :  1720 / 1896  :  90.72 %\n"
     ]
    }
   ],
   "source": [
    "\n",
    "score=0\n",
    "cpt=0\n",
    "for d in alldocsT:\n",
    "    sent = tagger.tag_sents([[i[0] for i in d]])\n",
    "    for i in range(len(sent[0])):   \n",
    "        cpt+=1\n",
    "        if sent[0][i][1]== d[i][1]:\n",
    "            score+=1\n",
    "        \n",
    "print(\"score trouvé : \",score,\"/\",cpt,\" : \",round(score/cpt,4)*100,\"%\")\n",
    "\n"
   ]
  },
  {
   "cell_type": "markdown",
   "metadata": {},
   "source": [
    "### Perceptron"
   ]
  },
  {
   "cell_type": "code",
   "execution_count": 94,
   "metadata": {},
   "outputs": [],
   "source": [
    "from nltk.tag.perceptron    import PerceptronTagger\n",
    "tagger = PerceptronTagger(load=False)\n",
    "tagger.train(alldocs)"
   ]
  },
  {
   "cell_type": "code",
   "execution_count": 97,
   "metadata": {},
   "outputs": [
    {
     "name": "stdout",
     "output_type": "stream",
     "text": [
      "score perceptron sur les phrases :  1730 / 1896  :  91.24 %\n"
     ]
    }
   ],
   "source": [
    "score=0\n",
    "cpt=0\n",
    "for d in alldocsT:\n",
    "    sent = tagger.tag_sents([[i[0] for i in d]])\n",
    "    for i in range(len(sent[0])):   \n",
    "        cpt+=1\n",
    "        if sent[0][i][1]== d[i][1]:\n",
    "            score+=1\n",
    "        \n",
    "print(\"score perceptron sur les phrases : \",score,\"/\",cpt,\" : \",round(score/cpt,4)*100,\"%\")"
   ]
  },
  {
   "cell_type": "code",
   "execution_count": 103,
   "metadata": {},
   "outputs": [
    {
     "name": "stdout",
     "output_type": "stream",
     "text": [
      "score perceptron sur les mots:  1469 / 1896\n"
     ]
    }
   ],
   "source": [
    "score=0\n",
    "cpt=0\n",
    "for d in alldocsT:\n",
    "    for m,c in d:\n",
    "        cpt+=1\n",
    "        if tagger.tag([m])[0][1]== c:\n",
    "            score+=1\n",
    "print(\"score perceptron sur les mots: \",score,\"/\",cpt,\" : \",round(score/cpt,4)*100,\"%\")"
   ]
  },
  {
   "cell_type": "code",
   "execution_count": null,
   "metadata": {},
   "outputs": [],
   "source": []
  }
 ],
 "metadata": {
  "kernelspec": {
   "display_name": "Python 3",
   "language": "python",
   "name": "python3"
  },
  "language_info": {
   "codemirror_mode": {
    "name": "ipython",
    "version": 3
   },
   "file_extension": ".py",
   "mimetype": "text/x-python",
   "name": "python",
   "nbconvert_exporter": "python",
   "pygments_lexer": "ipython3",
   "version": "3.5.3"
  }
 },
 "nbformat": 4,
 "nbformat_minor": 2
}
